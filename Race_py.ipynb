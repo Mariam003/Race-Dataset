{
 "cells": [
  {
   "cell_type": "code",
   "execution_count": 1,
   "id": "8bf5f630-073e-42de-a0e8-be43ded3e828",
   "metadata": {},
   "outputs": [],
   "source": [
    "#import libraries"
   ]
  },
  {
   "cell_type": "code",
   "execution_count": 88,
   "id": "c24178c7-a4c8-4c2a-9e2a-d1c2c64c2ff5",
   "metadata": {},
   "outputs": [
    {
     "name": "stdout",
     "output_type": "stream",
     "text": [
      "Requirement already satisfied: matplotlib in c:\\users\\phorever\\documents\\mariam\\myenv\\lib\\site-packages (3.10.1)\n",
      "Requirement already satisfied: contourpy>=1.0.1 in c:\\users\\phorever\\documents\\mariam\\myenv\\lib\\site-packages (from matplotlib) (1.3.1)\n",
      "Requirement already satisfied: cycler>=0.10 in c:\\users\\phorever\\documents\\mariam\\myenv\\lib\\site-packages (from matplotlib) (0.12.1)\n",
      "Requirement already satisfied: fonttools>=4.22.0 in c:\\users\\phorever\\documents\\mariam\\myenv\\lib\\site-packages (from matplotlib) (4.57.0)\n",
      "Requirement already satisfied: kiwisolver>=1.3.1 in c:\\users\\phorever\\documents\\mariam\\myenv\\lib\\site-packages (from matplotlib) (1.4.8)\n",
      "Requirement already satisfied: numpy>=1.23 in c:\\users\\phorever\\documents\\mariam\\myenv\\lib\\site-packages (from matplotlib) (2.2.4)\n",
      "Requirement already satisfied: packaging>=20.0 in c:\\users\\phorever\\documents\\mariam\\myenv\\lib\\site-packages (from matplotlib) (24.2)\n",
      "Requirement already satisfied: pillow>=8 in c:\\users\\phorever\\documents\\mariam\\myenv\\lib\\site-packages (from matplotlib) (11.1.0)\n",
      "Requirement already satisfied: pyparsing>=2.3.1 in c:\\users\\phorever\\documents\\mariam\\myenv\\lib\\site-packages (from matplotlib) (3.2.3)\n",
      "Requirement already satisfied: python-dateutil>=2.7 in c:\\users\\phorever\\documents\\mariam\\myenv\\lib\\site-packages (from matplotlib) (2.9.0.post0)\n",
      "Requirement already satisfied: six>=1.5 in c:\\users\\phorever\\documents\\mariam\\myenv\\lib\\site-packages (from python-dateutil>=2.7->matplotlib) (1.17.0)\n"
     ]
    }
   ],
   "source": [
    "!pip install matplotlib"
   ]
  },
  {
   "cell_type": "code",
   "execution_count": 89,
   "id": "d3b4b02f-7a74-4b29-9202-3ea4f0e9fc92",
   "metadata": {},
   "outputs": [],
   "source": [
    "import matplotlib.pyplot as plt"
   ]
  },
  {
   "cell_type": "code",
   "execution_count": 2,
   "id": "2fe29cc6-8eba-417e-a5b2-e34af059e8a7",
   "metadata": {},
   "outputs": [],
   "source": [
    "import pandas as pd"
   ]
  },
  {
   "cell_type": "code",
   "execution_count": 3,
   "id": "fbce36c2-c944-4aba-99bf-b34eb5e86552",
   "metadata": {},
   "outputs": [],
   "source": [
    "import seaborn as sns"
   ]
  },
  {
   "cell_type": "code",
   "execution_count": 4,
   "id": "a5803b79-944b-43c1-9825-3ce9b80e354f",
   "metadata": {},
   "outputs": [],
   "source": [
    "#import data"
   ]
  },
  {
   "cell_type": "code",
   "execution_count": 5,
   "id": "0c6adcaf-7a60-408d-99ec-eba61417f254",
   "metadata": {},
   "outputs": [
    {
     "name": "stderr",
     "output_type": "stream",
     "text": [
      "C:\\Users\\phorever\\AppData\\Local\\Temp\\ipykernel_23764\\2350612576.py:1: DtypeWarning: Columns (11) have mixed types. Specify dtype option on import or set low_memory=False.\n",
      "  df = pd.read_csv(\"TWO_CENTURIES_OF_UM_RACES.csv\")\n"
     ]
    }
   ],
   "source": [
    "df = pd.read_csv(\"TWO_CENTURIES_OF_UM_RACES.csv\")"
   ]
  },
  {
   "cell_type": "code",
   "execution_count": 9,
   "id": "fdc1b826-5bcc-4f7d-8295-e28585555f31",
   "metadata": {},
   "outputs": [
    {
     "data": {
      "text/plain": [
       "(7461195, 13)"
      ]
     },
     "execution_count": 9,
     "metadata": {},
     "output_type": "execute_result"
    }
   ],
   "source": [
    "#checking the number of rows and columns \n",
    "df.shape"
   ]
  },
  {
   "cell_type": "code",
   "execution_count": 6,
   "id": "40d6f6c2-1195-48fb-9b7e-e21d06b126fc",
   "metadata": {},
   "outputs": [],
   "source": [
    "#check for missing values"
   ]
  },
  {
   "cell_type": "code",
   "execution_count": 7,
   "id": "05518cbf-ab9d-4bd4-9a6b-7fee2f5d0bd0",
   "metadata": {},
   "outputs": [
    {
     "data": {
      "text/plain": [
       "Year of event                      0\n",
       "Event dates                        0\n",
       "Event name                         0\n",
       "Event distance/length           1053\n",
       "Event number of finishers          0\n",
       "Athlete performance                2\n",
       "Athlete club                 2826524\n",
       "Athlete country                    3\n",
       "Athlete year of birth         588161\n",
       "Athlete gender                     7\n",
       "Athlete age category          584938\n",
       "Athlete average speed            224\n",
       "Athlete ID                         0\n",
       "dtype: int64"
      ]
     },
     "execution_count": 7,
     "metadata": {},
     "output_type": "execute_result"
    }
   ],
   "source": [
    "df.isna().sum()"
   ]
  },
  {
   "cell_type": "code",
   "execution_count": 12,
   "id": "079f4538-b694-46e6-8068-87dc03e0a647",
   "metadata": {},
   "outputs": [
    {
     "data": {
      "text/html": [
       "<div>\n",
       "<style scoped>\n",
       "    .dataframe tbody tr th:only-of-type {\n",
       "        vertical-align: middle;\n",
       "    }\n",
       "\n",
       "    .dataframe tbody tr th {\n",
       "        vertical-align: top;\n",
       "    }\n",
       "\n",
       "    .dataframe thead th {\n",
       "        text-align: right;\n",
       "    }\n",
       "</style>\n",
       "<table border=\"1\" class=\"dataframe\">\n",
       "  <thead>\n",
       "    <tr style=\"text-align: right;\">\n",
       "      <th></th>\n",
       "      <th>Year of event</th>\n",
       "      <th>Event dates</th>\n",
       "      <th>Event name</th>\n",
       "      <th>Event distance/length</th>\n",
       "      <th>Event number of finishers</th>\n",
       "      <th>Athlete performance</th>\n",
       "      <th>Athlete club</th>\n",
       "      <th>Athlete country</th>\n",
       "      <th>Athlete year of birth</th>\n",
       "      <th>Athlete gender</th>\n",
       "      <th>Athlete age category</th>\n",
       "      <th>Athlete average speed</th>\n",
       "      <th>Athlete ID</th>\n",
       "    </tr>\n",
       "  </thead>\n",
       "  <tbody>\n",
       "    <tr>\n",
       "      <th>380797</th>\n",
       "      <td>2018</td>\n",
       "      <td>29.06.-03.07.2018</td>\n",
       "      <td>Maratonmarschen Stockholm (SWE)</td>\n",
       "      <td>NaN</td>\n",
       "      <td>174</td>\n",
       "      <td>3d 15:48:00 km</td>\n",
       "      <td>*Lund</td>\n",
       "      <td>SWE</td>\n",
       "      <td>1967.0</td>\n",
       "      <td>M</td>\n",
       "      <td>M50</td>\n",
       "      <td>0</td>\n",
       "      <td>88295</td>\n",
       "    </tr>\n",
       "    <tr>\n",
       "      <th>380798</th>\n",
       "      <td>2018</td>\n",
       "      <td>29.06.-03.07.2018</td>\n",
       "      <td>Maratonmarschen Stockholm (SWE)</td>\n",
       "      <td>NaN</td>\n",
       "      <td>174</td>\n",
       "      <td>3d 15:48:00 km</td>\n",
       "      <td>*Södertälje</td>\n",
       "      <td>SWE</td>\n",
       "      <td>1978.0</td>\n",
       "      <td>F</td>\n",
       "      <td>W40</td>\n",
       "      <td>0</td>\n",
       "      <td>249664</td>\n",
       "    </tr>\n",
       "    <tr>\n",
       "      <th>380799</th>\n",
       "      <td>2018</td>\n",
       "      <td>29.06.-03.07.2018</td>\n",
       "      <td>Maratonmarschen Stockholm (SWE)</td>\n",
       "      <td>NaN</td>\n",
       "      <td>174</td>\n",
       "      <td>2d 05:08:00 km</td>\n",
       "      <td>*Lidingö</td>\n",
       "      <td>SWE</td>\n",
       "      <td>1963.0</td>\n",
       "      <td>M</td>\n",
       "      <td>M55</td>\n",
       "      <td>0</td>\n",
       "      <td>249665</td>\n",
       "    </tr>\n",
       "    <tr>\n",
       "      <th>380800</th>\n",
       "      <td>2018</td>\n",
       "      <td>29.06.-03.07.2018</td>\n",
       "      <td>Maratonmarschen Stockholm (SWE)</td>\n",
       "      <td>NaN</td>\n",
       "      <td>174</td>\n",
       "      <td>2d 05:00:00 km</td>\n",
       "      <td>*Örebro</td>\n",
       "      <td>SWE</td>\n",
       "      <td>1978.0</td>\n",
       "      <td>M</td>\n",
       "      <td>M35</td>\n",
       "      <td>0</td>\n",
       "      <td>249666</td>\n",
       "    </tr>\n",
       "    <tr>\n",
       "      <th>380801</th>\n",
       "      <td>2018</td>\n",
       "      <td>29.06.-03.07.2018</td>\n",
       "      <td>Maratonmarschen Stockholm (SWE)</td>\n",
       "      <td>NaN</td>\n",
       "      <td>174</td>\n",
       "      <td>2d 02:35:00 km</td>\n",
       "      <td>*Täby</td>\n",
       "      <td>SWE</td>\n",
       "      <td>1972.0</td>\n",
       "      <td>F</td>\n",
       "      <td>W45</td>\n",
       "      <td>0</td>\n",
       "      <td>110881</td>\n",
       "    </tr>\n",
       "    <tr>\n",
       "      <th>...</th>\n",
       "      <td>...</td>\n",
       "      <td>...</td>\n",
       "      <td>...</td>\n",
       "      <td>...</td>\n",
       "      <td>...</td>\n",
       "      <td>...</td>\n",
       "      <td>...</td>\n",
       "      <td>...</td>\n",
       "      <td>...</td>\n",
       "      <td>...</td>\n",
       "      <td>...</td>\n",
       "      <td>...</td>\n",
       "      <td>...</td>\n",
       "    </tr>\n",
       "    <tr>\n",
       "      <th>6619314</th>\n",
       "      <td>2015</td>\n",
       "      <td>25.-29.06.2015</td>\n",
       "      <td>Stockholm Fotrally (SWE)</td>\n",
       "      <td>NaN</td>\n",
       "      <td>143</td>\n",
       "      <td>8:45:00 km</td>\n",
       "      <td>*Åkersberga</td>\n",
       "      <td>SWE</td>\n",
       "      <td>NaN</td>\n",
       "      <td>M</td>\n",
       "      <td>NaN</td>\n",
       "      <td>0.0</td>\n",
       "      <td>1498746</td>\n",
       "    </tr>\n",
       "    <tr>\n",
       "      <th>6619315</th>\n",
       "      <td>2015</td>\n",
       "      <td>25.-29.06.2015</td>\n",
       "      <td>Stockholm Fotrally (SWE)</td>\n",
       "      <td>NaN</td>\n",
       "      <td>143</td>\n",
       "      <td>8:40:00 km</td>\n",
       "      <td>*Åkersberga</td>\n",
       "      <td>SWE</td>\n",
       "      <td>1990.0</td>\n",
       "      <td>M</td>\n",
       "      <td>M23</td>\n",
       "      <td>0.0</td>\n",
       "      <td>249710</td>\n",
       "    </tr>\n",
       "    <tr>\n",
       "      <th>6619316</th>\n",
       "      <td>2015</td>\n",
       "      <td>25.-29.06.2015</td>\n",
       "      <td>Stockholm Fotrally (SWE)</td>\n",
       "      <td>NaN</td>\n",
       "      <td>143</td>\n",
       "      <td>8:30:00 km</td>\n",
       "      <td>*Rosersberg</td>\n",
       "      <td>SWE</td>\n",
       "      <td>1979.0</td>\n",
       "      <td>F</td>\n",
       "      <td>W35</td>\n",
       "      <td>0.0</td>\n",
       "      <td>114555</td>\n",
       "    </tr>\n",
       "    <tr>\n",
       "      <th>6619317</th>\n",
       "      <td>2015</td>\n",
       "      <td>25.-29.06.2015</td>\n",
       "      <td>Stockholm Fotrally (SWE)</td>\n",
       "      <td>NaN</td>\n",
       "      <td>143</td>\n",
       "      <td>8:03:00 km</td>\n",
       "      <td>*Stockholm</td>\n",
       "      <td>SWE</td>\n",
       "      <td>NaN</td>\n",
       "      <td>M</td>\n",
       "      <td>NaN</td>\n",
       "      <td>0.0</td>\n",
       "      <td>1498747</td>\n",
       "    </tr>\n",
       "    <tr>\n",
       "      <th>6619318</th>\n",
       "      <td>2015</td>\n",
       "      <td>25.-29.06.2015</td>\n",
       "      <td>Stockholm Fotrally (SWE)</td>\n",
       "      <td>NaN</td>\n",
       "      <td>143</td>\n",
       "      <td>8:02:00 km</td>\n",
       "      <td>*Sävsjö</td>\n",
       "      <td>SWE</td>\n",
       "      <td>NaN</td>\n",
       "      <td>M</td>\n",
       "      <td>NaN</td>\n",
       "      <td>0.0</td>\n",
       "      <td>1498748</td>\n",
       "    </tr>\n",
       "  </tbody>\n",
       "</table>\n",
       "<p>1053 rows × 13 columns</p>\n",
       "</div>"
      ],
      "text/plain": [
       "         Year of event        Event dates                       Event name  \\\n",
       "380797            2018  29.06.-03.07.2018  Maratonmarschen Stockholm (SWE)   \n",
       "380798            2018  29.06.-03.07.2018  Maratonmarschen Stockholm (SWE)   \n",
       "380799            2018  29.06.-03.07.2018  Maratonmarschen Stockholm (SWE)   \n",
       "380800            2018  29.06.-03.07.2018  Maratonmarschen Stockholm (SWE)   \n",
       "380801            2018  29.06.-03.07.2018  Maratonmarschen Stockholm (SWE)   \n",
       "...                ...                ...                              ...   \n",
       "6619314           2015     25.-29.06.2015         Stockholm Fotrally (SWE)   \n",
       "6619315           2015     25.-29.06.2015         Stockholm Fotrally (SWE)   \n",
       "6619316           2015     25.-29.06.2015         Stockholm Fotrally (SWE)   \n",
       "6619317           2015     25.-29.06.2015         Stockholm Fotrally (SWE)   \n",
       "6619318           2015     25.-29.06.2015         Stockholm Fotrally (SWE)   \n",
       "\n",
       "        Event distance/length  Event number of finishers Athlete performance  \\\n",
       "380797                    NaN                        174      3d 15:48:00 km   \n",
       "380798                    NaN                        174      3d 15:48:00 km   \n",
       "380799                    NaN                        174      2d 05:08:00 km   \n",
       "380800                    NaN                        174      2d 05:00:00 km   \n",
       "380801                    NaN                        174      2d 02:35:00 km   \n",
       "...                       ...                        ...                 ...   \n",
       "6619314                   NaN                        143          8:45:00 km   \n",
       "6619315                   NaN                        143          8:40:00 km   \n",
       "6619316                   NaN                        143          8:30:00 km   \n",
       "6619317                   NaN                        143          8:03:00 km   \n",
       "6619318                   NaN                        143          8:02:00 km   \n",
       "\n",
       "        Athlete club Athlete country  Athlete year of birth Athlete gender  \\\n",
       "380797         *Lund             SWE                 1967.0              M   \n",
       "380798   *Södertälje             SWE                 1978.0              F   \n",
       "380799      *Lidingö             SWE                 1963.0              M   \n",
       "380800       *Örebro             SWE                 1978.0              M   \n",
       "380801         *Täby             SWE                 1972.0              F   \n",
       "...              ...             ...                    ...            ...   \n",
       "6619314  *Åkersberga             SWE                    NaN              M   \n",
       "6619315  *Åkersberga             SWE                 1990.0              M   \n",
       "6619316  *Rosersberg             SWE                 1979.0              F   \n",
       "6619317   *Stockholm             SWE                    NaN              M   \n",
       "6619318      *Sävsjö             SWE                    NaN              M   \n",
       "\n",
       "        Athlete age category Athlete average speed  Athlete ID  \n",
       "380797                   M50                     0       88295  \n",
       "380798                   W40                     0      249664  \n",
       "380799                   M55                     0      249665  \n",
       "380800                   M35                     0      249666  \n",
       "380801                   W45                     0      110881  \n",
       "...                      ...                   ...         ...  \n",
       "6619314                  NaN                   0.0     1498746  \n",
       "6619315                  M23                   0.0      249710  \n",
       "6619316                  W35                   0.0      114555  \n",
       "6619317                  NaN                   0.0     1498747  \n",
       "6619318                  NaN                   0.0     1498748  \n",
       "\n",
       "[1053 rows x 13 columns]"
      ]
     },
     "execution_count": 12,
     "metadata": {},
     "output_type": "execute_result"
    }
   ],
   "source": [
    "df[df['Event distance/length'].isna()==1]"
   ]
  },
  {
   "cell_type": "code",
   "execution_count": 14,
   "id": "e039093a-3851-4aba-8850-7126ef3162eb",
   "metadata": {},
   "outputs": [],
   "source": [
    "df = df.dropna()"
   ]
  },
  {
   "cell_type": "code",
   "execution_count": 15,
   "id": "db9ea65f-7816-4eea-b161-e826a4e6c0dc",
   "metadata": {},
   "outputs": [
    {
     "data": {
      "text/plain": [
       "Year of event                0\n",
       "Event dates                  0\n",
       "Event name                   0\n",
       "Event distance/length        0\n",
       "Event number of finishers    0\n",
       "Athlete performance          0\n",
       "Athlete club                 0\n",
       "Athlete country              0\n",
       "Athlete year of birth        0\n",
       "Athlete gender               0\n",
       "Athlete age category         0\n",
       "Athlete average speed        0\n",
       "Athlete ID                   0\n",
       "dtype: int64"
      ]
     },
     "execution_count": 15,
     "metadata": {},
     "output_type": "execute_result"
    }
   ],
   "source": [
    "df.isna().sum()"
   ]
  },
  {
   "cell_type": "code",
   "execution_count": 17,
   "id": "3a1e67c7-2f1d-48db-8728-1e4d930feaf3",
   "metadata": {},
   "outputs": [
    {
     "data": {
      "text/plain": [
       "(4419683, 13)"
      ]
     },
     "execution_count": 17,
     "metadata": {},
     "output_type": "execute_result"
    }
   ],
   "source": [
    "df.shape"
   ]
  },
  {
   "cell_type": "code",
   "execution_count": 18,
   "id": "45d3875f-968a-4852-8cbc-1816209d6068",
   "metadata": {},
   "outputs": [],
   "source": [
    "#checking for duplicates"
   ]
  },
  {
   "cell_type": "code",
   "execution_count": 19,
   "id": "e00dd3ce-a732-4d17-8ad1-dddd4c34f20e",
   "metadata": {},
   "outputs": [
    {
     "ename": "AttributeError",
     "evalue": "'DataFrame' object has no attribute 'duplicates'",
     "output_type": "error",
     "traceback": [
      "\u001b[31m---------------------------------------------------------------------------\u001b[39m",
      "\u001b[31mAttributeError\u001b[39m                            Traceback (most recent call last)",
      "\u001b[32m~\\AppData\\Local\\Temp\\ipykernel_23764\\1300693634.py\u001b[39m in \u001b[36m?\u001b[39m\u001b[34m()\u001b[39m\n\u001b[32m----> \u001b[39m\u001b[32m1\u001b[39m df[df.duplicates() == \u001b[38;5;28;01mTrue\u001b[39;00m]\n",
      "\u001b[32m~\\Documents\\Mariam\\myenv\\Lib\\site-packages\\pandas\\core\\generic.py\u001b[39m in \u001b[36m?\u001b[39m\u001b[34m(self, name)\u001b[39m\n\u001b[32m   6295\u001b[39m             \u001b[38;5;28;01mand\u001b[39;00m name \u001b[38;5;28;01mnot\u001b[39;00m \u001b[38;5;28;01min\u001b[39;00m self._accessors\n\u001b[32m   6296\u001b[39m             \u001b[38;5;28;01mand\u001b[39;00m self._info_axis._can_hold_identifiers_and_holds_name(name)\n\u001b[32m   6297\u001b[39m         ):\n\u001b[32m   6298\u001b[39m             \u001b[38;5;28;01mreturn\u001b[39;00m self[name]\n\u001b[32m-> \u001b[39m\u001b[32m6299\u001b[39m         \u001b[38;5;28;01mreturn\u001b[39;00m object.__getattribute__(self, name)\n",
      "\u001b[31mAttributeError\u001b[39m: 'DataFrame' object has no attribute 'duplicates'"
     ]
    }
   ],
   "source": [
    "df[df.duplicates() == True]"
   ]
  },
  {
   "cell_type": "code",
   "execution_count": 21,
   "id": "ddcf2fb4-d076-494f-bc55-c1010350751b",
   "metadata": {},
   "outputs": [
    {
     "data": {
      "text/html": [
       "<div>\n",
       "<style scoped>\n",
       "    .dataframe tbody tr th:only-of-type {\n",
       "        vertical-align: middle;\n",
       "    }\n",
       "\n",
       "    .dataframe tbody tr th {\n",
       "        vertical-align: top;\n",
       "    }\n",
       "\n",
       "    .dataframe thead th {\n",
       "        text-align: right;\n",
       "    }\n",
       "</style>\n",
       "<table border=\"1\" class=\"dataframe\">\n",
       "  <thead>\n",
       "    <tr style=\"text-align: right;\">\n",
       "      <th></th>\n",
       "      <th>Year of event</th>\n",
       "      <th>Event dates</th>\n",
       "      <th>Event name</th>\n",
       "      <th>Event distance/length</th>\n",
       "      <th>Event number of finishers</th>\n",
       "      <th>Athlete performance</th>\n",
       "      <th>Athlete club</th>\n",
       "      <th>Athlete country</th>\n",
       "      <th>Athlete year of birth</th>\n",
       "      <th>Athlete gender</th>\n",
       "      <th>Athlete age category</th>\n",
       "      <th>Athlete average speed</th>\n",
       "      <th>Athlete ID</th>\n",
       "    </tr>\n",
       "  </thead>\n",
       "  <tbody>\n",
       "    <tr>\n",
       "      <th>0</th>\n",
       "      <td>2018</td>\n",
       "      <td>06.01.2018</td>\n",
       "      <td>Selva Costera (CHI)</td>\n",
       "      <td>50km</td>\n",
       "      <td>22</td>\n",
       "      <td>4:51:39 h</td>\n",
       "      <td>Tnfrc</td>\n",
       "      <td>CHI</td>\n",
       "      <td>1978.0</td>\n",
       "      <td>M</td>\n",
       "      <td>M35</td>\n",
       "      <td>10.286</td>\n",
       "      <td>0</td>\n",
       "    </tr>\n",
       "    <tr>\n",
       "      <th>1</th>\n",
       "      <td>2018</td>\n",
       "      <td>06.01.2018</td>\n",
       "      <td>Selva Costera (CHI)</td>\n",
       "      <td>50km</td>\n",
       "      <td>22</td>\n",
       "      <td>5:15:45 h</td>\n",
       "      <td>Roberto Echeverría</td>\n",
       "      <td>CHI</td>\n",
       "      <td>1981.0</td>\n",
       "      <td>M</td>\n",
       "      <td>M35</td>\n",
       "      <td>9.501</td>\n",
       "      <td>1</td>\n",
       "    </tr>\n",
       "    <tr>\n",
       "      <th>2</th>\n",
       "      <td>2018</td>\n",
       "      <td>06.01.2018</td>\n",
       "      <td>Selva Costera (CHI)</td>\n",
       "      <td>50km</td>\n",
       "      <td>22</td>\n",
       "      <td>5:16:44 h</td>\n",
       "      <td>Puro Trail Osorno</td>\n",
       "      <td>CHI</td>\n",
       "      <td>1987.0</td>\n",
       "      <td>M</td>\n",
       "      <td>M23</td>\n",
       "      <td>9.472</td>\n",
       "      <td>2</td>\n",
       "    </tr>\n",
       "    <tr>\n",
       "      <th>3</th>\n",
       "      <td>2018</td>\n",
       "      <td>06.01.2018</td>\n",
       "      <td>Selva Costera (CHI)</td>\n",
       "      <td>50km</td>\n",
       "      <td>22</td>\n",
       "      <td>5:34:13 h</td>\n",
       "      <td>Columbia</td>\n",
       "      <td>ARG</td>\n",
       "      <td>1976.0</td>\n",
       "      <td>M</td>\n",
       "      <td>M40</td>\n",
       "      <td>8.976</td>\n",
       "      <td>3</td>\n",
       "    </tr>\n",
       "    <tr>\n",
       "      <th>4</th>\n",
       "      <td>2018</td>\n",
       "      <td>06.01.2018</td>\n",
       "      <td>Selva Costera (CHI)</td>\n",
       "      <td>50km</td>\n",
       "      <td>22</td>\n",
       "      <td>5:54:14 h</td>\n",
       "      <td>Baguales Trail</td>\n",
       "      <td>CHI</td>\n",
       "      <td>1992.0</td>\n",
       "      <td>M</td>\n",
       "      <td>M23</td>\n",
       "      <td>8.469</td>\n",
       "      <td>4</td>\n",
       "    </tr>\n",
       "  </tbody>\n",
       "</table>\n",
       "</div>"
      ],
      "text/plain": [
       "   Year of event Event dates           Event name Event distance/length  \\\n",
       "0           2018  06.01.2018  Selva Costera (CHI)                  50km   \n",
       "1           2018  06.01.2018  Selva Costera (CHI)                  50km   \n",
       "2           2018  06.01.2018  Selva Costera (CHI)                  50km   \n",
       "3           2018  06.01.2018  Selva Costera (CHI)                  50km   \n",
       "4           2018  06.01.2018  Selva Costera (CHI)                  50km   \n",
       "\n",
       "   Event number of finishers Athlete performance        Athlete club  \\\n",
       "0                         22           4:51:39 h               Tnfrc   \n",
       "1                         22           5:15:45 h  Roberto Echeverría   \n",
       "2                         22           5:16:44 h   Puro Trail Osorno   \n",
       "3                         22           5:34:13 h            Columbia   \n",
       "4                         22           5:54:14 h      Baguales Trail   \n",
       "\n",
       "  Athlete country  Athlete year of birth Athlete gender Athlete age category  \\\n",
       "0             CHI                 1978.0              M                  M35   \n",
       "1             CHI                 1981.0              M                  M35   \n",
       "2             CHI                 1987.0              M                  M23   \n",
       "3             ARG                 1976.0              M                  M40   \n",
       "4             CHI                 1992.0              M                  M23   \n",
       "\n",
       "  Athlete average speed  Athlete ID  \n",
       "0                10.286           0  \n",
       "1                 9.501           1  \n",
       "2                 9.472           2  \n",
       "3                 8.976           3  \n",
       "4                 8.469           4  "
      ]
     },
     "execution_count": 21,
     "metadata": {},
     "output_type": "execute_result"
    }
   ],
   "source": [
    "df.head()"
   ]
  },
  {
   "cell_type": "code",
   "execution_count": null,
   "id": "c00509a6-7bdb-49d3-9601-cfca13ffea87",
   "metadata": {},
   "outputs": [],
   "source": [
    "#clean up athlete age"
   ]
  },
  {
   "cell_type": "code",
   "execution_count": 43,
   "id": "1202d411-22b2-47f6-8207-6c038f362ffc",
   "metadata": {},
   "outputs": [
    {
     "name": "stdout",
     "output_type": "stream",
     "text": [
      "2022\n"
     ]
    }
   ],
   "source": [
    "latest_year = df['Year of event'].max()\n",
    "print(latest_year)"
   ]
  },
  {
   "cell_type": "code",
   "execution_count": 45,
   "id": "1d047d37-9adf-45ed-b02c-24cd96fefa79",
   "metadata": {},
   "outputs": [
    {
     "name": "stdout",
     "output_type": "stream",
     "text": [
      "0          44.0\n",
      "1          41.0\n",
      "2          35.0\n",
      "3          46.0\n",
      "4          30.0\n",
      "           ... \n",
      "7461092    83.0\n",
      "7461093    84.0\n",
      "7461192    72.0\n",
      "7461193    63.0\n",
      "7461194    64.0\n",
      "Name: athlete_age, Length: 4419683, dtype: float64\n"
     ]
    }
   ],
   "source": [
    "df['athlete_age'] = 2022-df['Athlete year of birth']\n",
    "print(df['athlete_age'])"
   ]
  },
  {
   "cell_type": "code",
   "execution_count": 46,
   "id": "acb8bb58-6775-44f9-9333-5d648944972b",
   "metadata": {},
   "outputs": [
    {
     "data": {
      "text/html": [
       "<div>\n",
       "<style scoped>\n",
       "    .dataframe tbody tr th:only-of-type {\n",
       "        vertical-align: middle;\n",
       "    }\n",
       "\n",
       "    .dataframe tbody tr th {\n",
       "        vertical-align: top;\n",
       "    }\n",
       "\n",
       "    .dataframe thead th {\n",
       "        text-align: right;\n",
       "    }\n",
       "</style>\n",
       "<table border=\"1\" class=\"dataframe\">\n",
       "  <thead>\n",
       "    <tr style=\"text-align: right;\">\n",
       "      <th></th>\n",
       "      <th>Year of event</th>\n",
       "      <th>Event dates</th>\n",
       "      <th>Event name</th>\n",
       "      <th>Event distance/length</th>\n",
       "      <th>Event number of finishers</th>\n",
       "      <th>Athlete performance</th>\n",
       "      <th>Athlete club</th>\n",
       "      <th>Athlete country</th>\n",
       "      <th>Athlete year of birth</th>\n",
       "      <th>Athlete gender</th>\n",
       "      <th>Athlete age category</th>\n",
       "      <th>Athlete average speed</th>\n",
       "      <th>Athlete ID</th>\n",
       "      <th>Athlete_age</th>\n",
       "      <th>athlete_age</th>\n",
       "    </tr>\n",
       "  </thead>\n",
       "  <tbody>\n",
       "    <tr>\n",
       "      <th>0</th>\n",
       "      <td>2018</td>\n",
       "      <td>06.01.2018</td>\n",
       "      <td>Selva Costera</td>\n",
       "      <td>50km</td>\n",
       "      <td>22</td>\n",
       "      <td>4:51:39</td>\n",
       "      <td>Tnfrc</td>\n",
       "      <td>CHI</td>\n",
       "      <td>1978.0</td>\n",
       "      <td>M</td>\n",
       "      <td>M35</td>\n",
       "      <td>10.286</td>\n",
       "      <td>0</td>\n",
       "      <td>44.0</td>\n",
       "      <td>44.0</td>\n",
       "    </tr>\n",
       "    <tr>\n",
       "      <th>1</th>\n",
       "      <td>2018</td>\n",
       "      <td>06.01.2018</td>\n",
       "      <td>Selva Costera</td>\n",
       "      <td>50km</td>\n",
       "      <td>22</td>\n",
       "      <td>5:15:45</td>\n",
       "      <td>Roberto Echeverría</td>\n",
       "      <td>CHI</td>\n",
       "      <td>1981.0</td>\n",
       "      <td>M</td>\n",
       "      <td>M35</td>\n",
       "      <td>9.501</td>\n",
       "      <td>1</td>\n",
       "      <td>41.0</td>\n",
       "      <td>41.0</td>\n",
       "    </tr>\n",
       "    <tr>\n",
       "      <th>2</th>\n",
       "      <td>2018</td>\n",
       "      <td>06.01.2018</td>\n",
       "      <td>Selva Costera</td>\n",
       "      <td>50km</td>\n",
       "      <td>22</td>\n",
       "      <td>5:16:44</td>\n",
       "      <td>Puro Trail Osorno</td>\n",
       "      <td>CHI</td>\n",
       "      <td>1987.0</td>\n",
       "      <td>M</td>\n",
       "      <td>M23</td>\n",
       "      <td>9.472</td>\n",
       "      <td>2</td>\n",
       "      <td>35.0</td>\n",
       "      <td>35.0</td>\n",
       "    </tr>\n",
       "    <tr>\n",
       "      <th>3</th>\n",
       "      <td>2018</td>\n",
       "      <td>06.01.2018</td>\n",
       "      <td>Selva Costera</td>\n",
       "      <td>50km</td>\n",
       "      <td>22</td>\n",
       "      <td>5:34:13</td>\n",
       "      <td>Columbia</td>\n",
       "      <td>ARG</td>\n",
       "      <td>1976.0</td>\n",
       "      <td>M</td>\n",
       "      <td>M40</td>\n",
       "      <td>8.976</td>\n",
       "      <td>3</td>\n",
       "      <td>46.0</td>\n",
       "      <td>46.0</td>\n",
       "    </tr>\n",
       "    <tr>\n",
       "      <th>4</th>\n",
       "      <td>2018</td>\n",
       "      <td>06.01.2018</td>\n",
       "      <td>Selva Costera</td>\n",
       "      <td>50km</td>\n",
       "      <td>22</td>\n",
       "      <td>5:54:14</td>\n",
       "      <td>Baguales Trail</td>\n",
       "      <td>CHI</td>\n",
       "      <td>1992.0</td>\n",
       "      <td>M</td>\n",
       "      <td>M23</td>\n",
       "      <td>8.469</td>\n",
       "      <td>4</td>\n",
       "      <td>30.0</td>\n",
       "      <td>30.0</td>\n",
       "    </tr>\n",
       "  </tbody>\n",
       "</table>\n",
       "</div>"
      ],
      "text/plain": [
       "   Year of event Event dates      Event name Event distance/length  \\\n",
       "0           2018  06.01.2018  Selva Costera                   50km   \n",
       "1           2018  06.01.2018  Selva Costera                   50km   \n",
       "2           2018  06.01.2018  Selva Costera                   50km   \n",
       "3           2018  06.01.2018  Selva Costera                   50km   \n",
       "4           2018  06.01.2018  Selva Costera                   50km   \n",
       "\n",
       "   Event number of finishers Athlete performance        Athlete club  \\\n",
       "0                         22             4:51:39               Tnfrc   \n",
       "1                         22             5:15:45  Roberto Echeverría   \n",
       "2                         22             5:16:44   Puro Trail Osorno   \n",
       "3                         22             5:34:13            Columbia   \n",
       "4                         22             5:54:14      Baguales Trail   \n",
       "\n",
       "  Athlete country  Athlete year of birth Athlete gender Athlete age category  \\\n",
       "0             CHI                 1978.0              M                  M35   \n",
       "1             CHI                 1981.0              M                  M35   \n",
       "2             CHI                 1987.0              M                  M23   \n",
       "3             ARG                 1976.0              M                  M40   \n",
       "4             CHI                 1992.0              M                  M23   \n",
       "\n",
       "  Athlete average speed  Athlete ID  Athlete_age  athlete_age  \n",
       "0                10.286           0         44.0         44.0  \n",
       "1                 9.501           1         41.0         41.0  \n",
       "2                 9.472           2         35.0         35.0  \n",
       "3                 8.976           3         46.0         46.0  \n",
       "4                 8.469           4         30.0         30.0  "
      ]
     },
     "execution_count": 46,
     "metadata": {},
     "output_type": "execute_result"
    }
   ],
   "source": [
    "df.head()"
   ]
  },
  {
   "cell_type": "code",
   "execution_count": null,
   "id": "a39a5d55-77d8-4234-b72f-afb4b0e6eb0e",
   "metadata": {},
   "outputs": [],
   "source": [
    "#drop columns"
   ]
  },
  {
   "cell_type": "code",
   "execution_count": 47,
   "id": "18337ad1-8790-4ee7-9b6b-eba5938f5e5a",
   "metadata": {},
   "outputs": [],
   "source": [
    "df = df.drop(['Year of event', 'Athlete year of birth', 'Athlete age category', 'Athlete_age'], axis=1)"
   ]
  },
  {
   "cell_type": "code",
   "execution_count": 48,
   "id": "27a5326c-9332-4fc7-abd4-615186e7d31e",
   "metadata": {},
   "outputs": [
    {
     "data": {
      "text/html": [
       "<div>\n",
       "<style scoped>\n",
       "    .dataframe tbody tr th:only-of-type {\n",
       "        vertical-align: middle;\n",
       "    }\n",
       "\n",
       "    .dataframe tbody tr th {\n",
       "        vertical-align: top;\n",
       "    }\n",
       "\n",
       "    .dataframe thead th {\n",
       "        text-align: right;\n",
       "    }\n",
       "</style>\n",
       "<table border=\"1\" class=\"dataframe\">\n",
       "  <thead>\n",
       "    <tr style=\"text-align: right;\">\n",
       "      <th></th>\n",
       "      <th>Event dates</th>\n",
       "      <th>Event name</th>\n",
       "      <th>Event distance/length</th>\n",
       "      <th>Event number of finishers</th>\n",
       "      <th>Athlete performance</th>\n",
       "      <th>Athlete club</th>\n",
       "      <th>Athlete country</th>\n",
       "      <th>Athlete gender</th>\n",
       "      <th>Athlete average speed</th>\n",
       "      <th>Athlete ID</th>\n",
       "      <th>athlete_age</th>\n",
       "    </tr>\n",
       "  </thead>\n",
       "  <tbody>\n",
       "    <tr>\n",
       "      <th>0</th>\n",
       "      <td>06.01.2018</td>\n",
       "      <td>Selva Costera</td>\n",
       "      <td>50km</td>\n",
       "      <td>22</td>\n",
       "      <td>4:51:39</td>\n",
       "      <td>Tnfrc</td>\n",
       "      <td>CHI</td>\n",
       "      <td>M</td>\n",
       "      <td>10.286</td>\n",
       "      <td>0</td>\n",
       "      <td>44.0</td>\n",
       "    </tr>\n",
       "    <tr>\n",
       "      <th>1</th>\n",
       "      <td>06.01.2018</td>\n",
       "      <td>Selva Costera</td>\n",
       "      <td>50km</td>\n",
       "      <td>22</td>\n",
       "      <td>5:15:45</td>\n",
       "      <td>Roberto Echeverría</td>\n",
       "      <td>CHI</td>\n",
       "      <td>M</td>\n",
       "      <td>9.501</td>\n",
       "      <td>1</td>\n",
       "      <td>41.0</td>\n",
       "    </tr>\n",
       "    <tr>\n",
       "      <th>2</th>\n",
       "      <td>06.01.2018</td>\n",
       "      <td>Selva Costera</td>\n",
       "      <td>50km</td>\n",
       "      <td>22</td>\n",
       "      <td>5:16:44</td>\n",
       "      <td>Puro Trail Osorno</td>\n",
       "      <td>CHI</td>\n",
       "      <td>M</td>\n",
       "      <td>9.472</td>\n",
       "      <td>2</td>\n",
       "      <td>35.0</td>\n",
       "    </tr>\n",
       "    <tr>\n",
       "      <th>3</th>\n",
       "      <td>06.01.2018</td>\n",
       "      <td>Selva Costera</td>\n",
       "      <td>50km</td>\n",
       "      <td>22</td>\n",
       "      <td>5:34:13</td>\n",
       "      <td>Columbia</td>\n",
       "      <td>ARG</td>\n",
       "      <td>M</td>\n",
       "      <td>8.976</td>\n",
       "      <td>3</td>\n",
       "      <td>46.0</td>\n",
       "    </tr>\n",
       "    <tr>\n",
       "      <th>4</th>\n",
       "      <td>06.01.2018</td>\n",
       "      <td>Selva Costera</td>\n",
       "      <td>50km</td>\n",
       "      <td>22</td>\n",
       "      <td>5:54:14</td>\n",
       "      <td>Baguales Trail</td>\n",
       "      <td>CHI</td>\n",
       "      <td>M</td>\n",
       "      <td>8.469</td>\n",
       "      <td>4</td>\n",
       "      <td>30.0</td>\n",
       "    </tr>\n",
       "  </tbody>\n",
       "</table>\n",
       "</div>"
      ],
      "text/plain": [
       "  Event dates      Event name Event distance/length  \\\n",
       "0  06.01.2018  Selva Costera                   50km   \n",
       "1  06.01.2018  Selva Costera                   50km   \n",
       "2  06.01.2018  Selva Costera                   50km   \n",
       "3  06.01.2018  Selva Costera                   50km   \n",
       "4  06.01.2018  Selva Costera                   50km   \n",
       "\n",
       "   Event number of finishers Athlete performance        Athlete club  \\\n",
       "0                         22             4:51:39               Tnfrc   \n",
       "1                         22             5:15:45  Roberto Echeverría   \n",
       "2                         22             5:16:44   Puro Trail Osorno   \n",
       "3                         22             5:34:13            Columbia   \n",
       "4                         22             5:54:14      Baguales Trail   \n",
       "\n",
       "  Athlete country Athlete gender Athlete average speed  Athlete ID  \\\n",
       "0             CHI              M                10.286           0   \n",
       "1             CHI              M                 9.501           1   \n",
       "2             CHI              M                 9.472           2   \n",
       "3             ARG              M                 8.976           3   \n",
       "4             CHI              M                 8.469           4   \n",
       "\n",
       "   athlete_age  \n",
       "0         44.0  \n",
       "1         41.0  \n",
       "2         35.0  \n",
       "3         46.0  \n",
       "4         30.0  "
      ]
     },
     "execution_count": 48,
     "metadata": {},
     "output_type": "execute_result"
    }
   ],
   "source": [
    "df.head()"
   ]
  },
  {
   "cell_type": "code",
   "execution_count": 22,
   "id": "1d4e19b9-b5ef-4d93-9dbc-2b72c602972d",
   "metadata": {},
   "outputs": [],
   "source": [
    "#removing countires in bracket from event name"
   ]
  },
  {
   "cell_type": "code",
   "execution_count": 35,
   "id": "71215123-d4a7-4f68-bb14-8d9ff027eb19",
   "metadata": {},
   "outputs": [],
   "source": [
    "df['Event name'] = df['Event name'].str.split('(').str.get(0)"
   ]
  },
  {
   "cell_type": "code",
   "execution_count": 50,
   "id": "e3e68597-ce41-447d-b9ca-a2ea6fffac22",
   "metadata": {},
   "outputs": [
    {
     "data": {
      "text/html": [
       "<div>\n",
       "<style scoped>\n",
       "    .dataframe tbody tr th:only-of-type {\n",
       "        vertical-align: middle;\n",
       "    }\n",
       "\n",
       "    .dataframe tbody tr th {\n",
       "        vertical-align: top;\n",
       "    }\n",
       "\n",
       "    .dataframe thead th {\n",
       "        text-align: right;\n",
       "    }\n",
       "</style>\n",
       "<table border=\"1\" class=\"dataframe\">\n",
       "  <thead>\n",
       "    <tr style=\"text-align: right;\">\n",
       "      <th></th>\n",
       "      <th>Event dates</th>\n",
       "      <th>Event name</th>\n",
       "      <th>Event distance/length</th>\n",
       "      <th>Event number of finishers</th>\n",
       "      <th>Athlete performance</th>\n",
       "      <th>Athlete club</th>\n",
       "      <th>Athlete country</th>\n",
       "      <th>Athlete gender</th>\n",
       "      <th>Athlete average speed</th>\n",
       "      <th>Athlete ID</th>\n",
       "      <th>athlete_age</th>\n",
       "    </tr>\n",
       "  </thead>\n",
       "  <tbody>\n",
       "    <tr>\n",
       "      <th>0</th>\n",
       "      <td>06.01.2018</td>\n",
       "      <td>Selva Costera</td>\n",
       "      <td>50km</td>\n",
       "      <td>22</td>\n",
       "      <td>4:51:39</td>\n",
       "      <td>Tnfrc</td>\n",
       "      <td>CHI</td>\n",
       "      <td>M</td>\n",
       "      <td>10.286</td>\n",
       "      <td>0</td>\n",
       "      <td>44.0</td>\n",
       "    </tr>\n",
       "    <tr>\n",
       "      <th>1</th>\n",
       "      <td>06.01.2018</td>\n",
       "      <td>Selva Costera</td>\n",
       "      <td>50km</td>\n",
       "      <td>22</td>\n",
       "      <td>5:15:45</td>\n",
       "      <td>Roberto Echeverría</td>\n",
       "      <td>CHI</td>\n",
       "      <td>M</td>\n",
       "      <td>9.501</td>\n",
       "      <td>1</td>\n",
       "      <td>41.0</td>\n",
       "    </tr>\n",
       "    <tr>\n",
       "      <th>2</th>\n",
       "      <td>06.01.2018</td>\n",
       "      <td>Selva Costera</td>\n",
       "      <td>50km</td>\n",
       "      <td>22</td>\n",
       "      <td>5:16:44</td>\n",
       "      <td>Puro Trail Osorno</td>\n",
       "      <td>CHI</td>\n",
       "      <td>M</td>\n",
       "      <td>9.472</td>\n",
       "      <td>2</td>\n",
       "      <td>35.0</td>\n",
       "    </tr>\n",
       "    <tr>\n",
       "      <th>3</th>\n",
       "      <td>06.01.2018</td>\n",
       "      <td>Selva Costera</td>\n",
       "      <td>50km</td>\n",
       "      <td>22</td>\n",
       "      <td>5:34:13</td>\n",
       "      <td>Columbia</td>\n",
       "      <td>ARG</td>\n",
       "      <td>M</td>\n",
       "      <td>8.976</td>\n",
       "      <td>3</td>\n",
       "      <td>46.0</td>\n",
       "    </tr>\n",
       "    <tr>\n",
       "      <th>4</th>\n",
       "      <td>06.01.2018</td>\n",
       "      <td>Selva Costera</td>\n",
       "      <td>50km</td>\n",
       "      <td>22</td>\n",
       "      <td>5:54:14</td>\n",
       "      <td>Baguales Trail</td>\n",
       "      <td>CHI</td>\n",
       "      <td>M</td>\n",
       "      <td>8.469</td>\n",
       "      <td>4</td>\n",
       "      <td>30.0</td>\n",
       "    </tr>\n",
       "  </tbody>\n",
       "</table>\n",
       "</div>"
      ],
      "text/plain": [
       "  Event dates      Event name Event distance/length  \\\n",
       "0  06.01.2018  Selva Costera                   50km   \n",
       "1  06.01.2018  Selva Costera                   50km   \n",
       "2  06.01.2018  Selva Costera                   50km   \n",
       "3  06.01.2018  Selva Costera                   50km   \n",
       "4  06.01.2018  Selva Costera                   50km   \n",
       "\n",
       "   Event number of finishers Athlete performance        Athlete club  \\\n",
       "0                         22             4:51:39               Tnfrc   \n",
       "1                         22             5:15:45  Roberto Echeverría   \n",
       "2                         22             5:16:44   Puro Trail Osorno   \n",
       "3                         22             5:34:13            Columbia   \n",
       "4                         22             5:54:14      Baguales Trail   \n",
       "\n",
       "  Athlete country Athlete gender Athlete average speed  Athlete ID  \\\n",
       "0             CHI              M                10.286           0   \n",
       "1             CHI              M                 9.501           1   \n",
       "2             CHI              M                 9.472           2   \n",
       "3             ARG              M                 8.976           3   \n",
       "4             CHI              M                 8.469           4   \n",
       "\n",
       "   athlete_age  \n",
       "0         44.0  \n",
       "1         41.0  \n",
       "2         35.0  \n",
       "3         46.0  \n",
       "4         30.0  "
      ]
     },
     "execution_count": 50,
     "metadata": {},
     "output_type": "execute_result"
    }
   ],
   "source": [
    "df.head()"
   ]
  },
  {
   "cell_type": "code",
   "execution_count": 24,
   "id": "d013b077-43c8-4df9-b1c9-ba7e33f50423",
   "metadata": {},
   "outputs": [],
   "source": [
    "#remove h from Athlethe performance"
   ]
  },
  {
   "cell_type": "code",
   "execution_count": 40,
   "id": "6e9cefd8-12c7-40b4-adec-7551d845ccf8",
   "metadata": {},
   "outputs": [],
   "source": [
    "df['Athlete performance'] = df['Athlete performance'].str.split(' ').str.get(0)"
   ]
  },
  {
   "cell_type": "code",
   "execution_count": 49,
   "id": "e2f80af6-958c-4737-a45b-36a2f0f3c14a",
   "metadata": {},
   "outputs": [
    {
     "data": {
      "text/html": [
       "<div>\n",
       "<style scoped>\n",
       "    .dataframe tbody tr th:only-of-type {\n",
       "        vertical-align: middle;\n",
       "    }\n",
       "\n",
       "    .dataframe tbody tr th {\n",
       "        vertical-align: top;\n",
       "    }\n",
       "\n",
       "    .dataframe thead th {\n",
       "        text-align: right;\n",
       "    }\n",
       "</style>\n",
       "<table border=\"1\" class=\"dataframe\">\n",
       "  <thead>\n",
       "    <tr style=\"text-align: right;\">\n",
       "      <th></th>\n",
       "      <th>Event dates</th>\n",
       "      <th>Event name</th>\n",
       "      <th>Event distance/length</th>\n",
       "      <th>Event number of finishers</th>\n",
       "      <th>Athlete performance</th>\n",
       "      <th>Athlete club</th>\n",
       "      <th>Athlete country</th>\n",
       "      <th>Athlete gender</th>\n",
       "      <th>Athlete average speed</th>\n",
       "      <th>Athlete ID</th>\n",
       "      <th>athlete_age</th>\n",
       "    </tr>\n",
       "  </thead>\n",
       "  <tbody>\n",
       "    <tr>\n",
       "      <th>0</th>\n",
       "      <td>06.01.2018</td>\n",
       "      <td>Selva Costera</td>\n",
       "      <td>50km</td>\n",
       "      <td>22</td>\n",
       "      <td>4:51:39</td>\n",
       "      <td>Tnfrc</td>\n",
       "      <td>CHI</td>\n",
       "      <td>M</td>\n",
       "      <td>10.286</td>\n",
       "      <td>0</td>\n",
       "      <td>44.0</td>\n",
       "    </tr>\n",
       "    <tr>\n",
       "      <th>1</th>\n",
       "      <td>06.01.2018</td>\n",
       "      <td>Selva Costera</td>\n",
       "      <td>50km</td>\n",
       "      <td>22</td>\n",
       "      <td>5:15:45</td>\n",
       "      <td>Roberto Echeverría</td>\n",
       "      <td>CHI</td>\n",
       "      <td>M</td>\n",
       "      <td>9.501</td>\n",
       "      <td>1</td>\n",
       "      <td>41.0</td>\n",
       "    </tr>\n",
       "    <tr>\n",
       "      <th>2</th>\n",
       "      <td>06.01.2018</td>\n",
       "      <td>Selva Costera</td>\n",
       "      <td>50km</td>\n",
       "      <td>22</td>\n",
       "      <td>5:16:44</td>\n",
       "      <td>Puro Trail Osorno</td>\n",
       "      <td>CHI</td>\n",
       "      <td>M</td>\n",
       "      <td>9.472</td>\n",
       "      <td>2</td>\n",
       "      <td>35.0</td>\n",
       "    </tr>\n",
       "    <tr>\n",
       "      <th>3</th>\n",
       "      <td>06.01.2018</td>\n",
       "      <td>Selva Costera</td>\n",
       "      <td>50km</td>\n",
       "      <td>22</td>\n",
       "      <td>5:34:13</td>\n",
       "      <td>Columbia</td>\n",
       "      <td>ARG</td>\n",
       "      <td>M</td>\n",
       "      <td>8.976</td>\n",
       "      <td>3</td>\n",
       "      <td>46.0</td>\n",
       "    </tr>\n",
       "    <tr>\n",
       "      <th>4</th>\n",
       "      <td>06.01.2018</td>\n",
       "      <td>Selva Costera</td>\n",
       "      <td>50km</td>\n",
       "      <td>22</td>\n",
       "      <td>5:54:14</td>\n",
       "      <td>Baguales Trail</td>\n",
       "      <td>CHI</td>\n",
       "      <td>M</td>\n",
       "      <td>8.469</td>\n",
       "      <td>4</td>\n",
       "      <td>30.0</td>\n",
       "    </tr>\n",
       "  </tbody>\n",
       "</table>\n",
       "</div>"
      ],
      "text/plain": [
       "  Event dates      Event name Event distance/length  \\\n",
       "0  06.01.2018  Selva Costera                   50km   \n",
       "1  06.01.2018  Selva Costera                   50km   \n",
       "2  06.01.2018  Selva Costera                   50km   \n",
       "3  06.01.2018  Selva Costera                   50km   \n",
       "4  06.01.2018  Selva Costera                   50km   \n",
       "\n",
       "   Event number of finishers Athlete performance        Athlete club  \\\n",
       "0                         22             4:51:39               Tnfrc   \n",
       "1                         22             5:15:45  Roberto Echeverría   \n",
       "2                         22             5:16:44   Puro Trail Osorno   \n",
       "3                         22             5:34:13            Columbia   \n",
       "4                         22             5:54:14      Baguales Trail   \n",
       "\n",
       "  Athlete country Athlete gender Athlete average speed  Athlete ID  \\\n",
       "0             CHI              M                10.286           0   \n",
       "1             CHI              M                 9.501           1   \n",
       "2             CHI              M                 9.472           2   \n",
       "3             ARG              M                 8.976           3   \n",
       "4             CHI              M                 8.469           4   \n",
       "\n",
       "   athlete_age  \n",
       "0         44.0  \n",
       "1         41.0  \n",
       "2         35.0  \n",
       "3         46.0  \n",
       "4         30.0  "
      ]
     },
     "execution_count": 49,
     "metadata": {},
     "output_type": "execute_result"
    }
   ],
   "source": [
    "df.head()"
   ]
  },
  {
   "cell_type": "code",
   "execution_count": 51,
   "id": "c8867f0d-1018-43e6-b4c2-470cf1f46210",
   "metadata": {},
   "outputs": [],
   "source": [
    "#change datatypes"
   ]
  },
  {
   "cell_type": "code",
   "execution_count": 52,
   "id": "4874762f-7239-4f5b-996c-1bfe84f801a2",
   "metadata": {},
   "outputs": [
    {
     "data": {
      "text/plain": [
       "Event dates                   object\n",
       "Event name                    object\n",
       "Event distance/length         object\n",
       "Event number of finishers      int64\n",
       "Athlete performance           object\n",
       "Athlete club                  object\n",
       "Athlete country               object\n",
       "Athlete gender                object\n",
       "Athlete average speed         object\n",
       "Athlete ID                     int64\n",
       "athlete_age                  float64\n",
       "dtype: object"
      ]
     },
     "execution_count": 52,
     "metadata": {},
     "output_type": "execute_result"
    }
   ],
   "source": [
    "df.dtypes"
   ]
  },
  {
   "cell_type": "code",
   "execution_count": 55,
   "id": "f896f7bf-a3c7-47fb-9487-73409b60e784",
   "metadata": {},
   "outputs": [],
   "source": [
    "df['Event dates'] = pd.to_datetime(df['Event dates'], errors = 'coerce')"
   ]
  },
  {
   "cell_type": "code",
   "execution_count": 64,
   "id": "53129897-6a4b-43e1-8e4e-742be8c8b61d",
   "metadata": {},
   "outputs": [],
   "source": [
    "df['Athlete average speed'] = pd.to_numeric(df['Athlete average speed'], errors = 'coerce')"
   ]
  },
  {
   "cell_type": "code",
   "execution_count": 65,
   "id": "f043ba2b-ebf7-4eb0-a87c-fd61664381fa",
   "metadata": {},
   "outputs": [
    {
     "data": {
      "text/plain": [
       "Event dates                   datetime64[ns]\n",
       "Event name                            object\n",
       "Event distance/length                 object\n",
       "Event number of finishers              int64\n",
       "Athlete performance          timedelta64[ns]\n",
       "Athlete club                          object\n",
       "Athlete country                       object\n",
       "Athlete gender                        object\n",
       "Athlete average speed                float64\n",
       "Athlete ID                             int64\n",
       "athlete_age                          float64\n",
       "dtype: object"
      ]
     },
     "execution_count": 65,
     "metadata": {},
     "output_type": "execute_result"
    }
   ],
   "source": [
    "df.dtypes"
   ]
  },
  {
   "cell_type": "code",
   "execution_count": 66,
   "id": "98367ddc-de06-4454-854c-a58095ee7ae9",
   "metadata": {},
   "outputs": [],
   "source": [
    "#checking for outliers"
   ]
  },
  {
   "cell_type": "code",
   "execution_count": 68,
   "id": "108dd64c-600e-4f6a-aa8b-643a18b5197b",
   "metadata": {},
   "outputs": [
    {
     "name": "stdout",
     "output_type": "stream",
     "text": [
      "Event dates\n",
      "1876-08-05       2\n",
      "1876-11-09       1\n",
      "1899-06-05       5\n",
      "1904-03-04       2\n",
      "1904-04-09       1\n",
      "              ... \n",
      "2022-12-05      17\n",
      "2022-12-06    1834\n",
      "2022-12-08      76\n",
      "2022-12-09      13\n",
      "2022-12-11    2376\n",
      "Name: count, Length: 2188, dtype: int64\n"
     ]
    }
   ],
   "source": [
    "print(df['Event dates'].value_counts().sort_index())"
   ]
  },
  {
   "cell_type": "code",
   "execution_count": 69,
   "id": "cf9ec64b-b7da-4688-b3ae-324ef2004c24",
   "metadata": {},
   "outputs": [],
   "source": [
    "#rename columns"
   ]
  },
  {
   "cell_type": "code",
   "execution_count": 71,
   "id": "fdf90945-5062-473f-a818-7fa1bcf5dde6",
   "metadata": {},
   "outputs": [],
   "source": [
    "df = df.rename(columns = {'Event dates': 'event_date',\n",
    "                          'Event name' : 'event_name',\n",
    "                          'Event distance/length' : 'race_length',\n",
    "                          'Event number of finishers' : 'no_of_finishers',\n",
    "                          'Athlete performance' : 'athlete_performance',\n",
    "                          'Athlete club' : 'athlete_club',\n",
    "                          'Athlete country' : 'athlete_country',\n",
    "                          'Athlete gender' : 'gender',\n",
    "                          'Athlete average speed' : 'avg_speed',\n",
    "                          'Athlete ID' : 'athlete_id',\n",
    "                          'athlete_age' : 'age'\n",
    "                          })"
   ]
  },
  {
   "cell_type": "code",
   "execution_count": 82,
   "id": "3f958b8a-5b8f-4e25-9c35-0456aa30f102",
   "metadata": {},
   "outputs": [
    {
     "data": {
      "text/html": [
       "<div>\n",
       "<style scoped>\n",
       "    .dataframe tbody tr th:only-of-type {\n",
       "        vertical-align: middle;\n",
       "    }\n",
       "\n",
       "    .dataframe tbody tr th {\n",
       "        vertical-align: top;\n",
       "    }\n",
       "\n",
       "    .dataframe thead th {\n",
       "        text-align: right;\n",
       "    }\n",
       "</style>\n",
       "<table border=\"1\" class=\"dataframe\">\n",
       "  <thead>\n",
       "    <tr style=\"text-align: right;\">\n",
       "      <th></th>\n",
       "      <th>event_date</th>\n",
       "      <th>event_name</th>\n",
       "      <th>race_length</th>\n",
       "      <th>no_of_finishers</th>\n",
       "      <th>athlete_performance</th>\n",
       "      <th>athlete_club</th>\n",
       "      <th>athlete_country</th>\n",
       "      <th>gender</th>\n",
       "      <th>avg_speed</th>\n",
       "      <th>athlete_id</th>\n",
       "      <th>age</th>\n",
       "    </tr>\n",
       "  </thead>\n",
       "  <tbody>\n",
       "    <tr>\n",
       "      <th>0</th>\n",
       "      <td>2018-06-01</td>\n",
       "      <td>Selva Costera</td>\n",
       "      <td>50km</td>\n",
       "      <td>22</td>\n",
       "      <td>0 days 04:51:39</td>\n",
       "      <td>Tnfrc</td>\n",
       "      <td>CHI</td>\n",
       "      <td>M</td>\n",
       "      <td>10.286</td>\n",
       "      <td>0</td>\n",
       "      <td>44.0</td>\n",
       "    </tr>\n",
       "    <tr>\n",
       "      <th>1</th>\n",
       "      <td>2018-06-01</td>\n",
       "      <td>Selva Costera</td>\n",
       "      <td>50km</td>\n",
       "      <td>22</td>\n",
       "      <td>0 days 05:15:45</td>\n",
       "      <td>Roberto Echeverría</td>\n",
       "      <td>CHI</td>\n",
       "      <td>M</td>\n",
       "      <td>9.501</td>\n",
       "      <td>1</td>\n",
       "      <td>41.0</td>\n",
       "    </tr>\n",
       "    <tr>\n",
       "      <th>2</th>\n",
       "      <td>2018-06-01</td>\n",
       "      <td>Selva Costera</td>\n",
       "      <td>50km</td>\n",
       "      <td>22</td>\n",
       "      <td>0 days 05:16:44</td>\n",
       "      <td>Puro Trail Osorno</td>\n",
       "      <td>CHI</td>\n",
       "      <td>M</td>\n",
       "      <td>9.472</td>\n",
       "      <td>2</td>\n",
       "      <td>35.0</td>\n",
       "    </tr>\n",
       "    <tr>\n",
       "      <th>3</th>\n",
       "      <td>2018-06-01</td>\n",
       "      <td>Selva Costera</td>\n",
       "      <td>50km</td>\n",
       "      <td>22</td>\n",
       "      <td>0 days 05:34:13</td>\n",
       "      <td>Columbia</td>\n",
       "      <td>ARG</td>\n",
       "      <td>M</td>\n",
       "      <td>8.976</td>\n",
       "      <td>3</td>\n",
       "      <td>46.0</td>\n",
       "    </tr>\n",
       "    <tr>\n",
       "      <th>4</th>\n",
       "      <td>2018-06-01</td>\n",
       "      <td>Selva Costera</td>\n",
       "      <td>50km</td>\n",
       "      <td>22</td>\n",
       "      <td>0 days 05:54:14</td>\n",
       "      <td>Baguales Trail</td>\n",
       "      <td>CHI</td>\n",
       "      <td>M</td>\n",
       "      <td>8.469</td>\n",
       "      <td>4</td>\n",
       "      <td>30.0</td>\n",
       "    </tr>\n",
       "  </tbody>\n",
       "</table>\n",
       "</div>"
      ],
      "text/plain": [
       "  event_date      event_name race_length  no_of_finishers athlete_performance  \\\n",
       "0 2018-06-01  Selva Costera         50km               22     0 days 04:51:39   \n",
       "1 2018-06-01  Selva Costera         50km               22     0 days 05:15:45   \n",
       "2 2018-06-01  Selva Costera         50km               22     0 days 05:16:44   \n",
       "3 2018-06-01  Selva Costera         50km               22     0 days 05:34:13   \n",
       "4 2018-06-01  Selva Costera         50km               22     0 days 05:54:14   \n",
       "\n",
       "         athlete_club athlete_country gender  avg_speed  athlete_id   age  \n",
       "0               Tnfrc             CHI      M     10.286           0  44.0  \n",
       "1  Roberto Echeverría             CHI      M      9.501           1  41.0  \n",
       "2   Puro Trail Osorno             CHI      M      9.472           2  35.0  \n",
       "3            Columbia             ARG      M      8.976           3  46.0  \n",
       "4      Baguales Trail             CHI      M      8.469           4  30.0  "
      ]
     },
     "execution_count": 82,
     "metadata": {},
     "output_type": "execute_result"
    }
   ],
   "source": [
    "df.head()"
   ]
  },
  {
   "cell_type": "code",
   "execution_count": 75,
   "id": "b78f0870-39d5-4bd2-a98d-7208fca78e4d",
   "metadata": {},
   "outputs": [],
   "source": [
    "#changing athelete performance datatype to object"
   ]
  },
  {
   "cell_type": "code",
   "execution_count": 83,
   "id": "235acd1e-c17f-4bfa-8bd2-ac8a5d43d25f",
   "metadata": {},
   "outputs": [],
   "source": [
    "df['athlete_performance'] = df['athlete_performance'].astype(str)"
   ]
  },
  {
   "cell_type": "code",
   "execution_count": 84,
   "id": "95083726-9911-4c4f-b26f-5d384ea9e017",
   "metadata": {},
   "outputs": [
    {
     "data": {
      "text/plain": [
       "event_date             datetime64[ns]\n",
       "event_name                     object\n",
       "race_length                    object\n",
       "no_of_finishers                 int64\n",
       "athlete_performance            object\n",
       "athlete_club                   object\n",
       "athlete_country                object\n",
       "gender                         object\n",
       "avg_speed                     float64\n",
       "athlete_id                      int64\n",
       "age                           float64\n",
       "dtype: object"
      ]
     },
     "execution_count": 84,
     "metadata": {},
     "output_type": "execute_result"
    }
   ],
   "source": [
    "df.dtypes"
   ]
  },
  {
   "cell_type": "code",
   "execution_count": null,
   "id": "4396009c-7a09-49b3-9602-45b10da2247c",
   "metadata": {},
   "outputs": [],
   "source": [
    "#running descriptive analysis"
   ]
  },
  {
   "cell_type": "code",
   "execution_count": 85,
   "id": "48f20b6b-51b9-45e5-bfb2-5674269b61f1",
   "metadata": {},
   "outputs": [],
   "source": [
    "#total no of races per year"
   ]
  },
  {
   "cell_type": "code",
   "execution_count": 90,
   "id": "c6408594-2eaf-414e-96a7-1249d323ca4e",
   "metadata": {},
   "outputs": [],
   "source": [
    "#extracting the year from the event date\n",
    "df['year'] = df['event_date'].dt.year"
   ]
  },
  {
   "cell_type": "code",
   "execution_count": 91,
   "id": "5e2d2def-0565-45e0-b0a0-508c8d0611be",
   "metadata": {},
   "outputs": [
    {
     "data": {
      "text/html": [
       "<div>\n",
       "<style scoped>\n",
       "    .dataframe tbody tr th:only-of-type {\n",
       "        vertical-align: middle;\n",
       "    }\n",
       "\n",
       "    .dataframe tbody tr th {\n",
       "        vertical-align: top;\n",
       "    }\n",
       "\n",
       "    .dataframe thead th {\n",
       "        text-align: right;\n",
       "    }\n",
       "</style>\n",
       "<table border=\"1\" class=\"dataframe\">\n",
       "  <thead>\n",
       "    <tr style=\"text-align: right;\">\n",
       "      <th></th>\n",
       "      <th>event_date</th>\n",
       "      <th>event_name</th>\n",
       "      <th>race_length</th>\n",
       "      <th>no_of_finishers</th>\n",
       "      <th>athlete_performance</th>\n",
       "      <th>athlete_club</th>\n",
       "      <th>athlete_country</th>\n",
       "      <th>gender</th>\n",
       "      <th>avg_speed</th>\n",
       "      <th>athlete_id</th>\n",
       "      <th>age</th>\n",
       "      <th>year</th>\n",
       "    </tr>\n",
       "  </thead>\n",
       "  <tbody>\n",
       "    <tr>\n",
       "      <th>0</th>\n",
       "      <td>2018-06-01</td>\n",
       "      <td>Selva Costera</td>\n",
       "      <td>50km</td>\n",
       "      <td>22</td>\n",
       "      <td>0 days 04:51:39</td>\n",
       "      <td>Tnfrc</td>\n",
       "      <td>CHI</td>\n",
       "      <td>M</td>\n",
       "      <td>10.286</td>\n",
       "      <td>0</td>\n",
       "      <td>44.0</td>\n",
       "      <td>2018.0</td>\n",
       "    </tr>\n",
       "    <tr>\n",
       "      <th>1</th>\n",
       "      <td>2018-06-01</td>\n",
       "      <td>Selva Costera</td>\n",
       "      <td>50km</td>\n",
       "      <td>22</td>\n",
       "      <td>0 days 05:15:45</td>\n",
       "      <td>Roberto Echeverría</td>\n",
       "      <td>CHI</td>\n",
       "      <td>M</td>\n",
       "      <td>9.501</td>\n",
       "      <td>1</td>\n",
       "      <td>41.0</td>\n",
       "      <td>2018.0</td>\n",
       "    </tr>\n",
       "    <tr>\n",
       "      <th>2</th>\n",
       "      <td>2018-06-01</td>\n",
       "      <td>Selva Costera</td>\n",
       "      <td>50km</td>\n",
       "      <td>22</td>\n",
       "      <td>0 days 05:16:44</td>\n",
       "      <td>Puro Trail Osorno</td>\n",
       "      <td>CHI</td>\n",
       "      <td>M</td>\n",
       "      <td>9.472</td>\n",
       "      <td>2</td>\n",
       "      <td>35.0</td>\n",
       "      <td>2018.0</td>\n",
       "    </tr>\n",
       "    <tr>\n",
       "      <th>3</th>\n",
       "      <td>2018-06-01</td>\n",
       "      <td>Selva Costera</td>\n",
       "      <td>50km</td>\n",
       "      <td>22</td>\n",
       "      <td>0 days 05:34:13</td>\n",
       "      <td>Columbia</td>\n",
       "      <td>ARG</td>\n",
       "      <td>M</td>\n",
       "      <td>8.976</td>\n",
       "      <td>3</td>\n",
       "      <td>46.0</td>\n",
       "      <td>2018.0</td>\n",
       "    </tr>\n",
       "    <tr>\n",
       "      <th>4</th>\n",
       "      <td>2018-06-01</td>\n",
       "      <td>Selva Costera</td>\n",
       "      <td>50km</td>\n",
       "      <td>22</td>\n",
       "      <td>0 days 05:54:14</td>\n",
       "      <td>Baguales Trail</td>\n",
       "      <td>CHI</td>\n",
       "      <td>M</td>\n",
       "      <td>8.469</td>\n",
       "      <td>4</td>\n",
       "      <td>30.0</td>\n",
       "      <td>2018.0</td>\n",
       "    </tr>\n",
       "  </tbody>\n",
       "</table>\n",
       "</div>"
      ],
      "text/plain": [
       "  event_date      event_name race_length  no_of_finishers athlete_performance  \\\n",
       "0 2018-06-01  Selva Costera         50km               22     0 days 04:51:39   \n",
       "1 2018-06-01  Selva Costera         50km               22     0 days 05:15:45   \n",
       "2 2018-06-01  Selva Costera         50km               22     0 days 05:16:44   \n",
       "3 2018-06-01  Selva Costera         50km               22     0 days 05:34:13   \n",
       "4 2018-06-01  Selva Costera         50km               22     0 days 05:54:14   \n",
       "\n",
       "         athlete_club athlete_country gender  avg_speed  athlete_id   age  \\\n",
       "0               Tnfrc             CHI      M     10.286           0  44.0   \n",
       "1  Roberto Echeverría             CHI      M      9.501           1  41.0   \n",
       "2   Puro Trail Osorno             CHI      M      9.472           2  35.0   \n",
       "3            Columbia             ARG      M      8.976           3  46.0   \n",
       "4      Baguales Trail             CHI      M      8.469           4  30.0   \n",
       "\n",
       "     year  \n",
       "0  2018.0  \n",
       "1  2018.0  \n",
       "2  2018.0  \n",
       "3  2018.0  \n",
       "4  2018.0  "
      ]
     },
     "execution_count": 91,
     "metadata": {},
     "output_type": "execute_result"
    }
   ],
   "source": [
    "df.head()"
   ]
  },
  {
   "cell_type": "code",
   "execution_count": 92,
   "id": "a8a8aaa2-8a3b-445d-a9ed-f45f7e1b941e",
   "metadata": {},
   "outputs": [],
   "source": [
    "#grouping by year\n",
    "races_per_year = df['year'].value_counts().sort_index()"
   ]
  },
  {
   "cell_type": "code",
   "execution_count": 93,
   "id": "f3460489-ecfb-4d83-aa13-0b6daf7b3475",
   "metadata": {},
   "outputs": [
    {
     "data": {
      "image/png": "[encoded data removed]",
      "text/plain": [
       "<Figure size 1000x600 with 1 Axes>"
      ]
     },
     "metadata": {},
     "output_type": "display_data"
    }
   ],
   "source": [
    "#plotting the line graph\n",
    "plt.figure(figsize = (10,6))\n",
    "plt.plot(races_per_year.index, races_per_year.values, linestyle = '-')\n",
    "plt.title('Total Number of Races by Year')\n",
    "plt.xlabel('year')\n",
    "plt.ylabel('number of races')\n",
    "plt.tight_layout()\n",
    "plt.show()\n"
   ]
  },
  {
   "cell_type": "code",
   "execution_count": 95,
   "id": "522bc3b7-bfeb-469a-9869-77a7f90c45f7",
   "metadata": {},
   "outputs": [],
   "source": [
    "#modifying the years\n",
    "races_per_year = races_per_year[races_per_year.index >= 1980]"
   ]
  },
  {
   "cell_type": "code",
   "execution_count": 112,
   "id": "9532e635-91f3-46c6-87bf-3c3ee14da7c6",
   "metadata": {},
   "outputs": [
    {
     "data": {
      "image/png": "[encoded data removed]",
      "text/plain": [
       "<Figure size 1000x600 with 1 Axes>"
      ]
     },
     "metadata": {},
     "output_type": "display_data"
    }
   ],
   "source": [
    "#plotting a clearer line chart\n",
    "years_to_label = [1980, 1990, 2000, 2010, 2020]\n",
    "plt.figure(figsize = (10, 6))\n",
    "\n",
    "for x, y in zip(races_per_year.index, races_per_year.values):\n",
    "    if x in years_to_label:\n",
    "        plt.text (x,y + 0.5, str(y), ha = 'center', fontsize = 8)\n",
    "\n",
    "plt.plot(races_per_year.index, races_per_year.values, linestyle = '-')\n",
    "plt.title('Total Number of Races by Year')\n",
    "plt.xlabel('year')\n",
    "plt.ylabel('number of races')\n",
    "plt.tight_layout()\n",
    "plt.show()\n",
    "                   "
   ]
  },
  {
   "cell_type": "code",
   "execution_count": 103,
   "id": "a521a611-0cab-4ab3-b684-e70f6b5f915a",
   "metadata": {},
   "outputs": [],
   "source": [
    "#event distribution"
   ]
  },
  {
   "cell_type": "code",
   "execution_count": 123,
   "id": "a75724e9-ea16-47f6-bb5e-9d950de41dcb",
   "metadata": {},
   "outputs": [
    {
     "data": {
      "text/html": [
       "<div>\n",
       "<style scoped>\n",
       "    .dataframe tbody tr th:only-of-type {\n",
       "        vertical-align: middle;\n",
       "    }\n",
       "\n",
       "    .dataframe tbody tr th {\n",
       "        vertical-align: top;\n",
       "    }\n",
       "\n",
       "    .dataframe thead th {\n",
       "        text-align: right;\n",
       "    }\n",
       "</style>\n",
       "<table border=\"1\" class=\"dataframe\">\n",
       "  <thead>\n",
       "    <tr style=\"text-align: right;\">\n",
       "      <th></th>\n",
       "      <th>event_date</th>\n",
       "      <th>event_name</th>\n",
       "      <th>race_length</th>\n",
       "      <th>no_of_finishers</th>\n",
       "      <th>athlete_performance</th>\n",
       "      <th>athlete_club</th>\n",
       "      <th>athlete_country</th>\n",
       "      <th>gender</th>\n",
       "      <th>avg_speed</th>\n",
       "      <th>athlete_id</th>\n",
       "      <th>age</th>\n",
       "      <th>year</th>\n",
       "      <th>race_length_km</th>\n",
       "    </tr>\n",
       "  </thead>\n",
       "  <tbody>\n",
       "    <tr>\n",
       "      <th>0</th>\n",
       "      <td>2018-06-01</td>\n",
       "      <td>Selva Costera</td>\n",
       "      <td>50km</td>\n",
       "      <td>22</td>\n",
       "      <td>0 days 04:51:39</td>\n",
       "      <td>Tnfrc</td>\n",
       "      <td>CHI</td>\n",
       "      <td>M</td>\n",
       "      <td>10.286</td>\n",
       "      <td>0</td>\n",
       "      <td>44.0</td>\n",
       "      <td>2018.0</td>\n",
       "      <td>50km</td>\n",
       "    </tr>\n",
       "    <tr>\n",
       "      <th>1</th>\n",
       "      <td>2018-06-01</td>\n",
       "      <td>Selva Costera</td>\n",
       "      <td>50km</td>\n",
       "      <td>22</td>\n",
       "      <td>0 days 05:15:45</td>\n",
       "      <td>Roberto Echeverría</td>\n",
       "      <td>CHI</td>\n",
       "      <td>M</td>\n",
       "      <td>9.501</td>\n",
       "      <td>1</td>\n",
       "      <td>41.0</td>\n",
       "      <td>2018.0</td>\n",
       "      <td>50km</td>\n",
       "    </tr>\n",
       "    <tr>\n",
       "      <th>2</th>\n",
       "      <td>2018-06-01</td>\n",
       "      <td>Selva Costera</td>\n",
       "      <td>50km</td>\n",
       "      <td>22</td>\n",
       "      <td>0 days 05:16:44</td>\n",
       "      <td>Puro Trail Osorno</td>\n",
       "      <td>CHI</td>\n",
       "      <td>M</td>\n",
       "      <td>9.472</td>\n",
       "      <td>2</td>\n",
       "      <td>35.0</td>\n",
       "      <td>2018.0</td>\n",
       "      <td>50km</td>\n",
       "    </tr>\n",
       "    <tr>\n",
       "      <th>3</th>\n",
       "      <td>2018-06-01</td>\n",
       "      <td>Selva Costera</td>\n",
       "      <td>50km</td>\n",
       "      <td>22</td>\n",
       "      <td>0 days 05:34:13</td>\n",
       "      <td>Columbia</td>\n",
       "      <td>ARG</td>\n",
       "      <td>M</td>\n",
       "      <td>8.976</td>\n",
       "      <td>3</td>\n",
       "      <td>46.0</td>\n",
       "      <td>2018.0</td>\n",
       "      <td>50km</td>\n",
       "    </tr>\n",
       "    <tr>\n",
       "      <th>4</th>\n",
       "      <td>2018-06-01</td>\n",
       "      <td>Selva Costera</td>\n",
       "      <td>50km</td>\n",
       "      <td>22</td>\n",
       "      <td>0 days 05:54:14</td>\n",
       "      <td>Baguales Trail</td>\n",
       "      <td>CHI</td>\n",
       "      <td>M</td>\n",
       "      <td>8.469</td>\n",
       "      <td>4</td>\n",
       "      <td>30.0</td>\n",
       "      <td>2018.0</td>\n",
       "      <td>50km</td>\n",
       "    </tr>\n",
       "  </tbody>\n",
       "</table>\n",
       "</div>"
      ],
      "text/plain": [
       "  event_date      event_name race_length  no_of_finishers athlete_performance  \\\n",
       "0 2018-06-01  Selva Costera         50km               22     0 days 04:51:39   \n",
       "1 2018-06-01  Selva Costera         50km               22     0 days 05:15:45   \n",
       "2 2018-06-01  Selva Costera         50km               22     0 days 05:16:44   \n",
       "3 2018-06-01  Selva Costera         50km               22     0 days 05:34:13   \n",
       "4 2018-06-01  Selva Costera         50km               22     0 days 05:54:14   \n",
       "\n",
       "         athlete_club athlete_country gender  avg_speed  athlete_id   age  \\\n",
       "0               Tnfrc             CHI      M     10.286           0  44.0   \n",
       "1  Roberto Echeverría             CHI      M      9.501           1  41.0   \n",
       "2   Puro Trail Osorno             CHI      M      9.472           2  35.0   \n",
       "3            Columbia             ARG      M      8.976           3  46.0   \n",
       "4      Baguales Trail             CHI      M      8.469           4  30.0   \n",
       "\n",
       "     year race_length_km  \n",
       "0  2018.0           50km  \n",
       "1  2018.0           50km  \n",
       "2  2018.0           50km  \n",
       "3  2018.0           50km  \n",
       "4  2018.0           50km  "
      ]
     },
     "execution_count": 123,
     "metadata": {},
     "output_type": "execute_result"
    }
   ],
   "source": [
    "df.head()"
   ]
  },
  {
   "cell_type": "code",
   "execution_count": 129,
   "id": "4fc20e12-7c79-4fdb-a3ba-533dd367feb2",
   "metadata": {},
   "outputs": [
    {
     "data": {
      "text/plain": [
       "event_date             datetime64[ns]\n",
       "event_name                     object\n",
       "race_length                   float64\n",
       "no_of_finishers                 int64\n",
       "athlete_performance            object\n",
       "athlete_club                   object\n",
       "athlete_country                object\n",
       "gender                         object\n",
       "avg_speed                     float64\n",
       "athlete_id                      int64\n",
       "age                           float64\n",
       "year                          float64\n",
       "race_length_km                 object\n",
       "dtype: object"
      ]
     },
     "execution_count": 129,
     "metadata": {},
     "output_type": "execute_result"
    }
   ],
   "source": [
    "df.dtypes"
   ]
  },
  {
   "cell_type": "code",
   "execution_count": 130,
   "id": "8af754e4-6cf3-4c99-9450-c37097a5d843",
   "metadata": {},
   "outputs": [
    {
     "data": {
      "image/png": "[encoded data removed]",
      "text/plain": [
       "<Figure size 640x480 with 1 Axes>"
      ]
     },
     "metadata": {},
     "output_type": "display_data"
    }
   ],
   "source": [
    "# Extract numeric values from race length column\n",
    "df['race_length'] = pd.to_numeric(df['race_length'], errors='coerce')\n",
    "\n",
    "# Histogram of race length\n",
    "df['race_length'].plot(kind='hist', bins=20, title='Distribution of Event')\n",
    "plt.xlabel('Event Distance (km)')\n",
    "plt.ylabel('Frequency')\n",
    "plt.show()"
   ]
  },
  {
   "cell_type": "code",
   "execution_count": null,
   "id": "a47d8846-7e06-4821-bc9d-4c51a9de9e5f",
   "metadata": {},
   "outputs": [],
   "source": [
    "#no of participants by country"
   ]
  },
  {
   "cell_type": "code",
   "execution_count": 132,
   "id": "73b0c2c3-4e70-40e3-a184-d650081f996d",
   "metadata": {},
   "outputs": [
    {
     "data": {
      "image/png": "[encoded data removed]",
      "text/plain": [
       "<Figure size 640x480 with 1 Axes>"
      ]
     },
     "metadata": {},
     "output_type": "display_data"
    }
   ],
   "source": [
    "country_participants = df['athlete_country'].value_counts()\n",
    "\n",
    "country_participants.head(20).plot(kind='bar', title='Top 20 Countries with Most Participants')\n",
    "plt.xlabel('Country')\n",
    "plt.ylabel('Number of Participants')\n",
    "plt.show()"
   ]
  },
  {
   "cell_type": "code",
   "execution_count": 133,
   "id": "d22c95aa-2c9e-43d6-b0c1-984f5c5867e8",
   "metadata": {},
   "outputs": [],
   "source": [
    "#top clubs participation"
   ]
  },
  {
   "cell_type": "code",
   "execution_count": 134,
   "id": "0ddb3fbb-34a7-4ceb-8dde-f73d0f72813f",
   "metadata": {},
   "outputs": [
    {
     "data": {
      "image/png": "[encoded data removed]",
      "text/plain": [
       "<Figure size 640x480 with 1 Axes>"
      ]
     },
     "metadata": {},
     "output_type": "display_data"
    }
   ],
   "source": [
    "club_participants = df['athlete_club'].value_counts()\n",
    "\n",
    "club_participants.head(10).plot(kind = 'bar', title = 'Top 10 Clubs With Most Participants')\n",
    "plt.xlabel('athlete_club')\n",
    "plt.ylabel('club_participants')\n",
    "plt.tight_layout()\n",
    "plt.show()"
   ]
  },
  {
   "cell_type": "code",
   "execution_count": null,
   "id": "3dfaac98-1e75-407b-bc98-5698883fc633",
   "metadata": {},
   "outputs": [],
   "source": [
    "#age distribution "
   ]
  },
  {
   "cell_type": "code",
   "execution_count": 135,
   "id": "ed93ae85-abfc-4fbc-b0c1-f9ed4f4e3d13",
   "metadata": {},
   "outputs": [
    {
     "data": {
      "image/png": "[encoded data removed]",
      "text/plain": [
       "<Figure size 640x480 with 1 Axes>"
      ]
     },
     "metadata": {},
     "output_type": "display_data"
    }
   ],
   "source": [
    "df['age'].plot(kind='hist', bins=20, title='Age Distribution of Athletes')\n",
    "plt.xlabel('Age')\n",
    "plt.ylabel('Frequency')\n",
    "plt.show()\n"
   ]
  },
  {
   "cell_type": "code",
   "execution_count": null,
   "id": "334198f5-e9a1-47c8-93bd-b26fec1d8544",
   "metadata": {},
   "outputs": [],
   "source": [
    "#Performance analysis"
   ]
  },
  {
   "cell_type": "code",
   "execution_count": null,
   "id": "008de894-c737-416a-bd3d-803d4babfba3",
   "metadata": {},
   "outputs": [],
   "source": [
    "#avg speed by distance"
   ]
  },
  {
   "cell_type": "code",
   "execution_count": 139,
   "id": "2fd5911d-e04e-4b45-9fd1-2316b19d48fb",
   "metadata": {},
   "outputs": [
    {
     "data": {
      "image/png": "[encoded data removed]",
      "text/plain": [
       "<Figure size 640x480 with 1 Axes>"
      ]
     },
     "metadata": {},
     "output_type": "display_data"
    }
   ],
   "source": [
    "# Sampling the data \n",
    "df = df.sample(frac=0.1, random_state=42)\n",
    "\n",
    "# Converting average speed to numeric\n",
    "df['avg_speed'] = pd.to_numeric(df['avg_speed'], errors='coerce')\n",
    "\n",
    "\n",
    "\n",
    "# Plotting\n",
    "plt.scatter(df['race_length'], df['avg_speed'])\n",
    "plt.title('Average Speed vs Distance')\n",
    "plt.xlabel('Event Distance (km)')\n",
    "plt.ylabel('Average Speed (km/h)')\n",
    "plt.show()\n"
   ]
  },
  {
   "cell_type": "code",
   "execution_count": null,
   "id": "594a9d72-aafb-4c6c-aa2e-6787254e358b",
   "metadata": {},
   "outputs": [],
   "source": [
    "#performance overtime"
   ]
  },
  {
   "cell_type": "code",
   "execution_count": 147,
   "id": "9f339abe-f0ba-40cf-8034-546c49a993bb",
   "metadata": {},
   "outputs": [
    {
     "data": {
      "image/png": "[encoded data removed]",
      "text/plain": [
       "<Figure size 1000x600 with 1 Axes>"
      ]
     },
     "metadata": {},
     "output_type": "display_data"
    }
   ],
   "source": [
    "\n",
    "df['athlete_performance'] = pd.to_timedelta(df['athlete_performance'], errors='coerce')\n",
    "average_performance_by_year = df.groupby('year')['athlete_performance'].mean()\n",
    "\n",
    "plt.figure(figsize=(10,6))\n",
    "plt.plot(average_performance_by_year.index, average_performance_by_year.dt.total_seconds() / 3600)  # Convert to hours\n",
    "plt.title('Average Athlete Performance Duration per Year')\n",
    "plt.xlabel('Year')\n",
    "plt.ylabel('Average Duration (hours)')\n",
    "plt.show()\n"
   ]
  },
  {
   "cell_type": "code",
   "execution_count": null,
   "id": "2f3c1876-95d2-4dfb-bbca-d0d183d33c2f",
   "metadata": {},
   "outputs": [],
   "source": [
    "#top 1% performance by distance"
   ]
  },
  {
   "cell_type": "code",
   "execution_count": 154,
   "id": "11e1071a-89fb-47c0-96d3-cdff53e7950c",
   "metadata": {},
   "outputs": [
    {
     "data": {
      "image/png": "[encoded data removed]",
      "text/plain": [
       "<Figure size 640x480 with 1 Axes>"
      ]
     },
     "metadata": {},
     "output_type": "display_data"
    }
   ],
   "source": [
    "\n",
    "top_1_percent = df[df['avg_speed'] > df['avg_speed'].quantile(0.99)]\n",
    "\n",
    "# Plot: Boxplot of top 1% performers\n",
    "top_1_percent.boxplot(column='avg_speed', by='race_length', grid=False)\n",
    "plt.title('Top 1% Performers by Distance')\n",
    "plt.suptitle('')\n",
    "plt.xlabel('Event Distance (km)')\n",
    "plt.ylabel('Average Speed (km/h)')\n",
    "plt.show()\n"
   ]
  },
  {
   "cell_type": "code",
   "execution_count": null,
   "id": "4f3e8dee-5ea3-4c3a-a47c-46ae928777f0",
   "metadata": {},
   "outputs": [],
   "source": [
    "#time series analysis"
   ]
  },
  {
   "cell_type": "code",
   "execution_count": 155,
   "id": "4e4ba8b5-d15b-4b5d-a779-3778495da444",
   "metadata": {},
   "outputs": [],
   "source": [
    "#growth overtime"
   ]
  },
  {
   "cell_type": "code",
   "execution_count": 156,
   "id": "96f378e7-7eea-494e-804c-402808e3c757",
   "metadata": {},
   "outputs": [
    {
     "data": {
      "image/png": "[encoded data removed]",
      "text/plain": [
       "<Figure size 640x480 with 1 Axes>"
      ]
     },
     "metadata": {},
     "output_type": "display_data"
    }
   ],
   "source": [
    "df = df.sample(frac=0.1, random_state=42)\n",
    "\n",
    "events_per_year = df.groupby('year').size()\n",
    "events_per_year.plot(kind='line', title='Growth in Number of Ultra-Marathons Over Time')\n",
    "plt.xlabel('Year')\n",
    "plt.ylabel('Number of Events')\n",
    "plt.grid(True)\n",
    "plt.show()\n"
   ]
  },
  {
   "cell_type": "code",
   "execution_count": 177,
   "id": "de121be0-6b6b-494b-b645-0deca84b14cf",
   "metadata": {},
   "outputs": [],
   "source": [
    "df.to_csv('cleaned_races_data.csv', index=False)\n"
   ]
  },
  {
   "cell_type": "code",
   "execution_count": null,
   "id": "df117a6c-01bb-4c1f-b3a3-7f182de37d25",
   "metadata": {},
   "outputs": [],
   "source": []
  }
 ],
 "metadata": {
  "kernelspec": {
   "display_name": "Python 3 (ipykernel)",
   "language": "python",
   "name": "python3"
  },
  "language_info": {
   "codemirror_mode": {
    "name": "ipython",
    "version": 3
   },
   "file_extension": ".py",
   "mimetype": "text/x-python",
   "name": "python",
   "nbconvert_exporter": "python",
   "pygments_lexer": "ipython3",
   "version": "3.13.2"
  }
 },
 "nbformat": 4,
 "nbformat_minor": 5
}
